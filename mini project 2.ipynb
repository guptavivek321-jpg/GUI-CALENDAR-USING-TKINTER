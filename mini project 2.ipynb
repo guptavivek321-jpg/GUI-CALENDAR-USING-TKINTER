{
 "cells": [
  {
   "cell_type": "markdown",
   "id": "39b01632-5008-4cab-8270-23238d5b17dd",
   "metadata": {},
   "source": [
    "# GUI CALENDAR USING TKINTER"
   ]
  },
  {
   "cell_type": "code",
   "execution_count": null,
   "id": "4b2e47a0-516d-417f-87aa-35caf41f859a",
   "metadata": {},
   "outputs": [],
   "source": [
    "import tkinter as tk\n",
    "window = tk.Tk()\n",
    "from tkinter import *\n",
    "import calendar\n",
    "def showCal() :\n",
    "    window = Tk()\n",
    "    window.config(background = \"white\")\n",
    "    window.title(\"CALENDAR\")\n",
    "    window.iconbitmap(\"photos.ico\") \n",
    "    window.geometry(\"550x600\")\n",
    "    fetch_year = int(year_field.get())\n",
    "    cal_content = calendar.calendar(fetch_year)\n",
    "    cal_year = Label(window, text = cal_content, font = \"Consolas 10 bold\")\n",
    "    cal_year.grid(row = 5, column = 1, padx = 20)\n",
    "    window.mainloop()\n",
    "if __name__ == \"__main__\" :\n",
    "    window = Tk()\n",
    "    window.config(background = \"white\")\n",
    "    window.title(\"CALENDAR\")\n",
    "    window.geometry(\"250x140\")\n",
    "    window.iconbitmap(\"photos.ico\") \n",
    "    cal = Label(window, text = \"CALENDAR\", bg = \"dark gray\",\n",
    "                            font = (\"times\", 28, 'bold'))\n",
    "    year = Label(window, text = \"Enter Year\", bg = \"light green\")\n",
    "    year_field = Entry(window)\n",
    "    Show = Button(window, text = \"Show Calendar\", fg = \"Black\",\n",
    "                              bg = \"Red\", command = showCal)\n",
    "    Exit = Button(window, text = \"Exit\", fg = \"Black\", bg = \"Red\", command = exit)\n",
    "    cal.grid(row = 1, column = 1)\n",
    "    year.grid(row = 2, column = 1)\n",
    "    year_field.grid(row = 3, column = 1)\n",
    "    Show.grid(row = 4, column = 1)\n",
    "    Exit.grid(row = 6, column = 1)\n",
    "    window.mainloop()"
   ]
  },
  {
   "cell_type": "code",
   "execution_count": null,
   "id": "2e5edf69-805c-4a07-9928-aa8f4140dd19",
   "metadata": {},
   "outputs": [],
   "source": []
  }
 ],
 "metadata": {
  "kernelspec": {
   "display_name": "Python 3 (ipykernel)",
   "language": "python",
   "name": "python3"
  },
  "language_info": {
   "codemirror_mode": {
    "name": "ipython",
    "version": 3
   },
   "file_extension": ".py",
   "mimetype": "text/x-python",
   "name": "python",
   "nbconvert_exporter": "python",
   "pygments_lexer": "ipython3",
   "version": "3.13.5"
  }
 },
 "nbformat": 4,
 "nbformat_minor": 5
}
