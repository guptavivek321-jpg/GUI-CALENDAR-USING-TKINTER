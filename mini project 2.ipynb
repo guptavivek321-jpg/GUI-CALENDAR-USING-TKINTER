{
 "cells": [
  {
   "cell_type": "markdown",
   "id": "39b01632-5008-4cab-8270-23238d5b17dd",
   "metadata": {},
   "source": [
    "# GUI CALENDAR USING TKINTER"
   ]
  },
  {
   "cell_type": "code",
   "execution_count": null,
   "id": "2e5edf69-805c-4a07-9928-aa8f4140dd19",
   "metadata": {},
   "outputs": [],
   "source": []
  },
  {
   "cell_type": "markdown",
   "id": "29e48c6b-3013-4979-8b5c-6a087ff6d9ab",
   "metadata": {},
   "source": [
    " # GUI CALENDAR USING TKINTER"
   ]
  },
  {
   "cell_type": "code",
   "execution_count": 5,
   "id": "b7d22c1d-b19d-41ad-9b44-030e62a9834d",
   "metadata": {},
   "outputs": [],
   "source": [
    "import tkinter as tk\n",
    "from tkinter import messagebox, scrolledtext\n",
    "import calendar\n",
    "def showCal():\n",
    "    \"\"\"Display the calendar for the entered year.\"\"\"\n",
    "    try:\n",
    "        fetch_year = int(year_field.get())\n",
    "        cal_content = calendar.calendar(fetch_year)\n",
    "        cal_display.config(state=\"normal\")\n",
    "        cal_display.delete(1.0, tk.END)\n",
    "        cal_display.insert(tk.END, cal_content)\n",
    "        cal_display.config(state=\"disabled\")\n",
    "    except ValueError:\n",
    "        messagebox.showerror(\"Invalid Input\", \"Please enter a valid year (e.g., 2025)\")\n",
    "def confirm_exit():\n",
    "    \"\"\"Ask for confirmation before closing the app.\"\"\"\n",
    "    if messagebox.askyesno(\"Exit\", \"Are you sure you want to exit?\"):\n",
    "        window.destroy()\n",
    "window = tk.Tk()\n",
    "window.title(\"Yearly Calendar\")\n",
    "window.geometry(\"600x500\")\n",
    "window.config(bg=\"#f5f5f5\")\n",
    "title_label = tk.Label(\n",
    "    window,\n",
    "    text=\"📅 Calendar Viewer\",\n",
    "    font=(\"Helvetica\", 20, \"bold\"),\n",
    "    bg=\"#4a90e2\",\n",
    "    fg=\"white\",\n",
    "    pady=10\n",
    ")\n",
    "title_label.pack(fill=\"x\")\n",
    "input_frame = tk.Frame(window, bg=\"#f5f5f5\", pady=10)\n",
    "input_frame.pack()\n",
    "\n",
    "year_label = tk.Label(input_frame, text=\"Enter Year:\", font=(\"Helvetica\", 12), bg=\"#f5f5f5\")\n",
    "year_label.grid(row=0, column=0, padx=5)\n",
    "\n",
    "year_field = tk.Entry(input_frame, font=(\"Helvetica\", 12), width=10, justify=\"center\")\n",
    "year_field.grid(row=0, column=1, padx=5)\n",
    "show_button = tk.Button(\n",
    "    input_frame,\n",
    "    text=\"Show Calendar\",\n",
    "    font=(\"Helvetica\", 12, \"bold\"),\n",
    "    bg=\"#4caf50\",\n",
    "    fg=\"white\",\n",
    "    command=showCal\n",
    ")\n",
    "show_button.grid(row=0, column=2, padx=5)\n",
    "\n",
    "exit_button = tk.Button(\n",
    "    input_frame,\n",
    "    text=\"Exit\",\n",
    "    font=(\"Helvetica\", 12, \"bold\"),\n",
    "    bg=\"#e74c3c\",\n",
    "    fg=\"white\",\n",
    "    command=confirm_exit\n",
    ")\n",
    "exit_button.grid(row=0, column=3, padx=5)\n",
    "cal_display = scrolledtext.ScrolledText(\n",
    "    window,\n",
    "    wrap=tk.WORD,\n",
    "    font=(\"Consolas\", 10),\n",
    "    bg=\"white\",\n",
    "    fg=\"black\",\n",
    "    width=80,\n",
    "    height=20\n",
    ")\n",
    "cal_display.pack(pady=10, padx=10, fill=\"both\", expand=True)\n",
    "cal_display.config(state=\"disabled\")\n",
    "\n",
    "window.mainloop()"
   ]
  },
  {
   "cell_type": "code",
   "execution_count": null,
   "id": "7b0144fc-ab89-4a67-95dc-c1c99a3a7fd6",
   "metadata": {},
   "outputs": [],
   "source": []
  },
  {
   "cell_type": "code",
   "execution_count": null,
   "id": "6e0cdcdd-6fb5-406f-892a-1be179e7e852",
   "metadata": {},
   "outputs": [],
   "source": []
  }
 ],
 "metadata": {
  "kernelspec": {
   "display_name": "Python 3 (ipykernel)",
   "language": "python",
   "name": "python3"
  },
  "language_info": {
   "codemirror_mode": {
    "name": "ipython",
    "version": 3
   },
   "file_extension": ".py",
   "mimetype": "text/x-python",
   "name": "python",
   "nbconvert_exporter": "python",
   "pygments_lexer": "ipython3",
   "version": "3.13.5"
  }
 },
 "nbformat": 4,
 "nbformat_minor": 5
}
